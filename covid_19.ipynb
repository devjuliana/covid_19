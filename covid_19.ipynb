{
  "nbformat": 4,
  "nbformat_minor": 0,
  "metadata": {
    "colab": {
      "name": "covid_19.ipynb",
      "provenance": []
    },
    "kernelspec": {
      "name": "python3",
      "display_name": "Python 3"
    }
  },
  "cells": [
    {
      "cell_type": "markdown",
      "metadata": {
        "id": "lKXl11JCTnHS",
        "colab_type": "text"
      },
      "source": [
        "# **Análise dos dados do COVID-19**\n",
        "\n",
        "**COVID-19** é o nome da doença causada pelo novo coronavírus(Sars-Cov-2).\n",
        "\n",
        "O mundo está em quarentena na tentativa de reduzir a disseminação e o número de mortes resultantes da COVID-19. Diante desse quadro, várias instituições estão trabalhando para encontrar formas de vencer a crise atual. \n",
        "\n",
        "\n",
        "Como a Johns Hopkins University, que mantém uma atualização diária de um repositório no github com dados numéricos sobre a proliferação da doença. \n",
        "\n",
        "\n",
        "Neste repositório é possível baixar dados para desenvolver projetos e soluções de Data Science.\n",
        "\n",
        "https://github.com/CSSEGISandData/COVID-19\n",
        "\n",
        "\n",
        "A Johns Hopkins University também fornece um dashboard interativo mostrando o progresso da COVID-19.\n",
        "\n",
        "https://www.arcgis.com/apps/opsdashboard/index.html#/bda7594740fd40299423467b48e9ecf6\n",
        "\n",
        "Neste notebook, analiso os dados diários disponibilizados em 29/03/2020, com o objetivo de ver quais insights podem ser extraídos a partir de dados brutos.\n",
        "\n"
      ]
    },
    {
      "cell_type": "markdown",
      "metadata": {
        "id": "deQmqFgiQ52f",
        "colab_type": "text"
      },
      "source": [
        "# **Obtenção dos Dados**\n",
        "\n",
        "Todos os dados usados aqui foram obtidos a partir do repositório  https://github.com/CSSEGISandData/COVID-19. Este repositório é mantido pela Johns Hopkins University Center for Systems Science and Engineering (JHU CSSE).\n",
        "\n",
        "Para esta análise exploratória, será baixado apenas o seguinte arquivo:\n",
        "*   03-29-2020.csv - Dado diário do COVID-19 de 29/03/2020."
      ]
    },
    {
      "cell_type": "code",
      "metadata": {
        "id": "JRYSoKpUJJuC",
        "colab_type": "code",
        "colab": {}
      },
      "source": [
        "# importar os pacotes necessários\n",
        "import pandas as pd\n",
        "import matplotlib.pyplot as plt\n",
        "import seaborn as sns\n",
        "\n",
        "%matplotlib inline"
      ],
      "execution_count": 0,
      "outputs": []
    },
    {
      "cell_type": "code",
      "metadata": {
        "id": "-gSpMPswylgu",
        "colab_type": "code",
        "colab": {}
      },
      "source": [
        "#importar o arquivo 03-29-2020.csv para um dataframe\n",
        "df = pd.read_csv(\"https://raw.githubusercontent.com/CSSEGISandData/COVID-19/master/csse_covid_19_data/csse_covid_19_daily_reports/03-29-2020.csv\")"
      ],
      "execution_count": 0,
      "outputs": []
    },
    {
      "cell_type": "markdown",
      "metadata": {
        "id": "JClN2ILlyXGy",
        "colab_type": "text"
      },
      "source": [
        "## Preparação dos dados"
      ]
    },
    {
      "cell_type": "code",
      "metadata": {
        "id": "ZNCg_dzcylto",
        "colab_type": "code",
        "outputId": "2feae471-dacc-4c84-bef8-545dbbb5fbd4",
        "colab": {
          "base_uri": "https://localhost:8080/",
          "height": 81
        }
      },
      "source": [
        "#visualizando a primeira linha de dados\n",
        "df.head(1)"
      ],
      "execution_count": 0,
      "outputs": [
        {
          "output_type": "execute_result",
          "data": {
            "text/html": [
              "<div>\n",
              "<style scoped>\n",
              "    .dataframe tbody tr th:only-of-type {\n",
              "        vertical-align: middle;\n",
              "    }\n",
              "\n",
              "    .dataframe tbody tr th {\n",
              "        vertical-align: top;\n",
              "    }\n",
              "\n",
              "    .dataframe thead th {\n",
              "        text-align: right;\n",
              "    }\n",
              "</style>\n",
              "<table border=\"1\" class=\"dataframe\">\n",
              "  <thead>\n",
              "    <tr style=\"text-align: right;\">\n",
              "      <th></th>\n",
              "      <th>FIPS</th>\n",
              "      <th>Admin2</th>\n",
              "      <th>Province_State</th>\n",
              "      <th>Country_Region</th>\n",
              "      <th>Last_Update</th>\n",
              "      <th>Lat</th>\n",
              "      <th>Long_</th>\n",
              "      <th>Confirmed</th>\n",
              "      <th>Deaths</th>\n",
              "      <th>Recovered</th>\n",
              "      <th>Active</th>\n",
              "      <th>Combined_Key</th>\n",
              "    </tr>\n",
              "  </thead>\n",
              "  <tbody>\n",
              "    <tr>\n",
              "      <th>0</th>\n",
              "      <td>45001.0</td>\n",
              "      <td>Abbeville</td>\n",
              "      <td>South Carolina</td>\n",
              "      <td>US</td>\n",
              "      <td>2020-03-29 23:08:25</td>\n",
              "      <td>34.223334</td>\n",
              "      <td>-82.461707</td>\n",
              "      <td>3</td>\n",
              "      <td>0</td>\n",
              "      <td>0</td>\n",
              "      <td>0</td>\n",
              "      <td>Abbeville, South Carolina, US</td>\n",
              "    </tr>\n",
              "  </tbody>\n",
              "</table>\n",
              "</div>"
            ],
            "text/plain": [
              "      FIPS     Admin2  ... Active                   Combined_Key\n",
              "0  45001.0  Abbeville  ...      0  Abbeville, South Carolina, US\n",
              "\n",
              "[1 rows x 12 columns]"
            ]
          },
          "metadata": {
            "tags": []
          },
          "execution_count": 190
        }
      ]
    },
    {
      "cell_type": "code",
      "metadata": {
        "id": "c4XhaRILyl3M",
        "colab_type": "code",
        "outputId": "0fc78545-ebff-41af-e062-2dc3084e28e9",
        "colab": {
          "base_uri": "https://localhost:8080/",
          "height": 81
        }
      },
      "source": [
        "#deletando colunas não desejadas\n",
        "del df['FIPS']\n",
        "del df['Admin2']\n",
        "del df['Combined_Key']\n",
        "\n",
        "#renomeando colunas\n",
        "df.columns = ['Province_State', 'Country_Region', 'Last_Update', 'Latitude', 'Longitude', 'Confirmed', 'Deaths', 'Recovered', 'Active']\n",
        "\n",
        "df.head(1)"
      ],
      "execution_count": 0,
      "outputs": [
        {
          "output_type": "execute_result",
          "data": {
            "text/html": [
              "<div>\n",
              "<style scoped>\n",
              "    .dataframe tbody tr th:only-of-type {\n",
              "        vertical-align: middle;\n",
              "    }\n",
              "\n",
              "    .dataframe tbody tr th {\n",
              "        vertical-align: top;\n",
              "    }\n",
              "\n",
              "    .dataframe thead th {\n",
              "        text-align: right;\n",
              "    }\n",
              "</style>\n",
              "<table border=\"1\" class=\"dataframe\">\n",
              "  <thead>\n",
              "    <tr style=\"text-align: right;\">\n",
              "      <th></th>\n",
              "      <th>Province_State</th>\n",
              "      <th>Country_Region</th>\n",
              "      <th>Last_Update</th>\n",
              "      <th>Latitude</th>\n",
              "      <th>Longitude</th>\n",
              "      <th>Confirmed</th>\n",
              "      <th>Deaths</th>\n",
              "      <th>Recovered</th>\n",
              "      <th>Active</th>\n",
              "    </tr>\n",
              "  </thead>\n",
              "  <tbody>\n",
              "    <tr>\n",
              "      <th>0</th>\n",
              "      <td>South Carolina</td>\n",
              "      <td>US</td>\n",
              "      <td>2020-03-29 23:08:25</td>\n",
              "      <td>34.223334</td>\n",
              "      <td>-82.461707</td>\n",
              "      <td>3</td>\n",
              "      <td>0</td>\n",
              "      <td>0</td>\n",
              "      <td>0</td>\n",
              "    </tr>\n",
              "  </tbody>\n",
              "</table>\n",
              "</div>"
            ],
            "text/plain": [
              "   Province_State Country_Region  ... Recovered  Active\n",
              "0  South Carolina             US  ...         0       0\n",
              "\n",
              "[1 rows x 9 columns]"
            ]
          },
          "metadata": {
            "tags": []
          },
          "execution_count": 191
        }
      ]
    },
    {
      "cell_type": "markdown",
      "metadata": {
        "id": "Kyqi3yjvVoWI",
        "colab_type": "text"
      },
      "source": [
        "**Análise dos Dados**\n",
        "\n",
        "Esta etapa tem por objetivo criar uma consciência situacional inicial e permitir um entendimento de como os dados estão estruturados.\n",
        "\n",
        "**Dicionário das variáveis**\n",
        "\n",
        "*   `Province_State` - estado ou província com incidência da COVID-19\n",
        "*   `Country_Region` - país ou região com incidência da COVID-19\n",
        "*   `Last_Update` - data da última atualização dos dados\n",
        "*   `Latitude` - coordenada de latitude de incidência da COVID-19\n",
        "*   `Longitude` - coordenada de longitude de incidência da COVID-19\n",
        "*   `Confirmed` - número de casos confirmados\n",
        "*   `Deaths` - número de mortes causadas pela COVID-19\n",
        "*   `Recovered` - número de casos recuperados\n",
        "*   `Active` - número de casos ativos"
      ]
    },
    {
      "cell_type": "code",
      "metadata": {
        "id": "lIra9EK2VVXn",
        "colab_type": "code",
        "outputId": "d937ad04-d337-40c3-b79a-a843aa24e9ba",
        "colab": {
          "base_uri": "https://localhost:8080/",
          "height": 226
        }
      },
      "source": [
        "print('total de países: ', len(df['Country_Region'].unique())) #177 países\n",
        "#df['Country_Region'].unique()\n",
        "\n",
        "#5 primeiras entradas\n",
        "df.head()"
      ],
      "execution_count": 0,
      "outputs": [
        {
          "output_type": "stream",
          "text": [
            "total de países:  177\n"
          ],
          "name": "stdout"
        },
        {
          "output_type": "execute_result",
          "data": {
            "text/html": [
              "<div>\n",
              "<style scoped>\n",
              "    .dataframe tbody tr th:only-of-type {\n",
              "        vertical-align: middle;\n",
              "    }\n",
              "\n",
              "    .dataframe tbody tr th {\n",
              "        vertical-align: top;\n",
              "    }\n",
              "\n",
              "    .dataframe thead th {\n",
              "        text-align: right;\n",
              "    }\n",
              "</style>\n",
              "<table border=\"1\" class=\"dataframe\">\n",
              "  <thead>\n",
              "    <tr style=\"text-align: right;\">\n",
              "      <th></th>\n",
              "      <th>Province_State</th>\n",
              "      <th>Country_Region</th>\n",
              "      <th>Last_Update</th>\n",
              "      <th>Latitude</th>\n",
              "      <th>Longitude</th>\n",
              "      <th>Confirmed</th>\n",
              "      <th>Deaths</th>\n",
              "      <th>Recovered</th>\n",
              "      <th>Active</th>\n",
              "    </tr>\n",
              "  </thead>\n",
              "  <tbody>\n",
              "    <tr>\n",
              "      <th>0</th>\n",
              "      <td>South Carolina</td>\n",
              "      <td>US</td>\n",
              "      <td>2020-03-29 23:08:25</td>\n",
              "      <td>34.223334</td>\n",
              "      <td>-82.461707</td>\n",
              "      <td>3</td>\n",
              "      <td>0</td>\n",
              "      <td>0</td>\n",
              "      <td>0</td>\n",
              "    </tr>\n",
              "    <tr>\n",
              "      <th>1</th>\n",
              "      <td>Louisiana</td>\n",
              "      <td>US</td>\n",
              "      <td>2020-03-29 23:08:25</td>\n",
              "      <td>30.295065</td>\n",
              "      <td>-92.414197</td>\n",
              "      <td>9</td>\n",
              "      <td>1</td>\n",
              "      <td>0</td>\n",
              "      <td>0</td>\n",
              "    </tr>\n",
              "    <tr>\n",
              "      <th>2</th>\n",
              "      <td>Virginia</td>\n",
              "      <td>US</td>\n",
              "      <td>2020-03-29 23:08:25</td>\n",
              "      <td>37.767072</td>\n",
              "      <td>-75.632346</td>\n",
              "      <td>3</td>\n",
              "      <td>0</td>\n",
              "      <td>0</td>\n",
              "      <td>0</td>\n",
              "    </tr>\n",
              "    <tr>\n",
              "      <th>3</th>\n",
              "      <td>Idaho</td>\n",
              "      <td>US</td>\n",
              "      <td>2020-03-29 23:08:25</td>\n",
              "      <td>43.452658</td>\n",
              "      <td>-116.241552</td>\n",
              "      <td>92</td>\n",
              "      <td>1</td>\n",
              "      <td>0</td>\n",
              "      <td>0</td>\n",
              "    </tr>\n",
              "    <tr>\n",
              "      <th>4</th>\n",
              "      <td>Iowa</td>\n",
              "      <td>US</td>\n",
              "      <td>2020-03-29 23:08:25</td>\n",
              "      <td>41.330756</td>\n",
              "      <td>-94.471059</td>\n",
              "      <td>1</td>\n",
              "      <td>0</td>\n",
              "      <td>0</td>\n",
              "      <td>0</td>\n",
              "    </tr>\n",
              "  </tbody>\n",
              "</table>\n",
              "</div>"
            ],
            "text/plain": [
              "   Province_State Country_Region  ... Recovered  Active\n",
              "0  South Carolina             US  ...         0       0\n",
              "1       Louisiana             US  ...         0       0\n",
              "2        Virginia             US  ...         0       0\n",
              "3           Idaho             US  ...         0       0\n",
              "4            Iowa             US  ...         0       0\n",
              "\n",
              "[5 rows x 9 columns]"
            ]
          },
          "metadata": {
            "tags": []
          },
          "execution_count": 194
        }
      ]
    },
    {
      "cell_type": "markdown",
      "metadata": {
        "id": "g3j7fI1aWS0C",
        "colab_type": "text"
      },
      "source": [
        "### **Q1. Quantos atributos (variáveis) e quantas entradas o conjunto de dados possui? Quais os tipos das variáveis?**"
      ]
    },
    {
      "cell_type": "code",
      "metadata": {
        "id": "f03nDp1uWTic",
        "colab_type": "code",
        "outputId": "1f45b692-9216-4bc4-a2a0-832a07a087bc",
        "colab": {
          "base_uri": "https://localhost:8080/",
          "height": 266
        }
      },
      "source": [
        "#volume de dados do DataFrame\n",
        "print(\"Entradas: \", df.shape[0])\n",
        "print(\"Variáveis: \", df.shape[1], \"\\n\")\n",
        "\n",
        "display(df.dtypes)"
      ],
      "execution_count": 0,
      "outputs": [
        {
          "output_type": "stream",
          "text": [
            "Entradas:  3434\n",
            "Variáveis:  9 \n",
            "\n"
          ],
          "name": "stdout"
        },
        {
          "output_type": "display_data",
          "data": {
            "text/plain": [
              "Province_State     object\n",
              "Country_Region     object\n",
              "Last_Update        object\n",
              "Latitude          float64\n",
              "Longitude         float64\n",
              "Confirmed           int64\n",
              "Deaths              int64\n",
              "Recovered           int64\n",
              "Active              int64\n",
              "dtype: object"
            ]
          },
          "metadata": {
            "tags": []
          }
        }
      ]
    },
    {
      "cell_type": "markdown",
      "metadata": {
        "id": "4Bv0p6HYW4i_",
        "colab_type": "text"
      },
      "source": [
        "### **Q2. Qual a porcentagem de valores ausentes no *dataset*?**\n",
        "\n",
        "* A variável `Province_state` tem aproximadamente 5% dos seus valores nulos.\n"
      ]
    },
    {
      "cell_type": "code",
      "metadata": {
        "id": "wdD_qRf-W8GF",
        "colab_type": "code",
        "outputId": "23815396-b556-45ce-c0df-33cf1e631247",
        "colab": {
          "base_uri": "https://localhost:8080/",
          "height": 209
        }
      },
      "source": [
        "#ordenar em ordem decrescente as variáveis por seus valores ausentes\n",
        "(df.isnull().sum() / df.shape[0]).sort_values(ascending=False)"
      ],
      "execution_count": 0,
      "outputs": [
        {
          "output_type": "execute_result",
          "data": {
            "text/plain": [
              "Province_State    0.050379\n",
              "Active            0.000000\n",
              "Recovered         0.000000\n",
              "Deaths            0.000000\n",
              "Confirmed         0.000000\n",
              "Longitude         0.000000\n",
              "Latitude          0.000000\n",
              "Last_Update       0.000000\n",
              "Country_Region    0.000000\n",
              "dtype: float64"
            ]
          },
          "metadata": {
            "tags": []
          },
          "execution_count": 196
        }
      ]
    },
    {
      "cell_type": "markdown",
      "metadata": {
        "id": "gtRukZ2FYPIx",
        "colab_type": "text"
      },
      "source": [
        "### **Q3. Qual o tipo de distribuição das variáveis?** \n",
        "\n",
        "Para identificar a distribuição das variáveis, irei plotar o histograma."
      ]
    },
    {
      "cell_type": "code",
      "metadata": {
        "id": "kt88A0YEYSg9",
        "colab_type": "code",
        "outputId": "59799f0e-8a9b-4117-afb7-040811881777",
        "colab": {
          "base_uri": "https://localhost:8080/",
          "height": 971
        }
      },
      "source": [
        "#gráfico das variáveis numéricas\n",
        "df.hist(bins=15, figsize=(15,10))"
      ],
      "execution_count": 0,
      "outputs": [
        {
          "output_type": "stream",
          "text": [
            "/usr/local/lib/python3.6/dist-packages/pandas/plotting/_matplotlib/tools.py:307: MatplotlibDeprecationWarning: \n",
            "The rowNum attribute was deprecated in Matplotlib 3.2 and will be removed two minor releases later. Use ax.get_subplotspec().rowspan.start instead.\n",
            "  layout[ax.rowNum, ax.colNum] = ax.get_visible()\n",
            "/usr/local/lib/python3.6/dist-packages/pandas/plotting/_matplotlib/tools.py:307: MatplotlibDeprecationWarning: \n",
            "The colNum attribute was deprecated in Matplotlib 3.2 and will be removed two minor releases later. Use ax.get_subplotspec().colspan.start instead.\n",
            "  layout[ax.rowNum, ax.colNum] = ax.get_visible()\n",
            "/usr/local/lib/python3.6/dist-packages/pandas/plotting/_matplotlib/tools.py:313: MatplotlibDeprecationWarning: \n",
            "The rowNum attribute was deprecated in Matplotlib 3.2 and will be removed two minor releases later. Use ax.get_subplotspec().rowspan.start instead.\n",
            "  if not layout[ax.rowNum + 1, ax.colNum]:\n",
            "/usr/local/lib/python3.6/dist-packages/pandas/plotting/_matplotlib/tools.py:313: MatplotlibDeprecationWarning: \n",
            "The colNum attribute was deprecated in Matplotlib 3.2 and will be removed two minor releases later. Use ax.get_subplotspec().colspan.start instead.\n",
            "  if not layout[ax.rowNum + 1, ax.colNum]:\n"
          ],
          "name": "stderr"
        },
        {
          "output_type": "execute_result",
          "data": {
            "text/plain": [
              "array([[<matplotlib.axes._subplots.AxesSubplot object at 0x7fe59e818f60>,\n",
              "        <matplotlib.axes._subplots.AxesSubplot object at 0x7fe599a1b0b8>],\n",
              "       [<matplotlib.axes._subplots.AxesSubplot object at 0x7fe599a3c320>,\n",
              "        <matplotlib.axes._subplots.AxesSubplot object at 0x7fe5999de588>],\n",
              "       [<matplotlib.axes._subplots.AxesSubplot object at 0x7fe5999ff7f0>,\n",
              "        <matplotlib.axes._subplots.AxesSubplot object at 0x7fe5999a0a58>]],\n",
              "      dtype=object)"
            ]
          },
          "metadata": {
            "tags": []
          },
          "execution_count": 197
        },
        {
          "output_type": "display_data",
          "data": {
            "image/png": "[encoded data removed]",
            "text/plain": [
              "<Figure size 1080x720 with 6 Axes>"
            ]
          },
          "metadata": {
            "tags": []
          }
        }
      ]
    },
    {
      "cell_type": "markdown",
      "metadata": {
        "id": "YcAJLSJAYm2O",
        "colab_type": "text"
      },
      "source": [
        "### **Q4. Há *outliers* presentes?**\n",
        "\n",
        "Pela distribuição do histograma, é possível verificar indícios da presença de outliers. Por exemplo, variável `Deaths`.\n",
        "\n",
        "Para confirmar, há duas maneiras rápidas que auxiliam a detecção de outliers. São elas:\n",
        "\n",
        "*   Resumo estatístico por meio do método `describe()`\n",
        "*   Plotar `boxplots` para a variável"
      ]
    },
    {
      "cell_type": "code",
      "metadata": {
        "id": "2gRZ6xBcYsEc",
        "colab_type": "code",
        "outputId": "d78d95f0-1af6-47f8-de73-e9587de072f5",
        "colab": {
          "base_uri": "https://localhost:8080/",
          "height": 301
        }
      },
      "source": [
        "#resumo estatístico das variáveis numéricas\n",
        "df[['Active', 'Confirmed', 'Deaths', 'Recovered']].describe()"
      ],
      "execution_count": 0,
      "outputs": [
        {
          "output_type": "execute_result",
          "data": {
            "text/html": [
              "<div>\n",
              "<style scoped>\n",
              "    .dataframe tbody tr th:only-of-type {\n",
              "        vertical-align: middle;\n",
              "    }\n",
              "\n",
              "    .dataframe tbody tr th {\n",
              "        vertical-align: top;\n",
              "    }\n",
              "\n",
              "    .dataframe thead th {\n",
              "        text-align: right;\n",
              "    }\n",
              "</style>\n",
              "<table border=\"1\" class=\"dataframe\">\n",
              "  <thead>\n",
              "    <tr style=\"text-align: right;\">\n",
              "      <th></th>\n",
              "      <th>Active</th>\n",
              "      <th>Confirmed</th>\n",
              "      <th>Deaths</th>\n",
              "      <th>Recovered</th>\n",
              "    </tr>\n",
              "  </thead>\n",
              "  <tbody>\n",
              "    <tr>\n",
              "      <th>count</th>\n",
              "      <td>3434.000000</td>\n",
              "      <td>3434.000000</td>\n",
              "      <td>3434.000000</td>\n",
              "      <td>3434.000000</td>\n",
              "    </tr>\n",
              "    <tr>\n",
              "      <th>mean</th>\n",
              "      <td>115.202679</td>\n",
              "      <td>209.702097</td>\n",
              "      <td>9.879150</td>\n",
              "      <td>43.413512</td>\n",
              "    </tr>\n",
              "    <tr>\n",
              "      <th>std</th>\n",
              "      <td>2024.521259</td>\n",
              "      <td>2956.173537</td>\n",
              "      <td>234.856826</td>\n",
              "      <td>1161.782648</td>\n",
              "    </tr>\n",
              "    <tr>\n",
              "      <th>min</th>\n",
              "      <td>-6.000000</td>\n",
              "      <td>0.000000</td>\n",
              "      <td>0.000000</td>\n",
              "      <td>0.000000</td>\n",
              "    </tr>\n",
              "    <tr>\n",
              "      <th>25%</th>\n",
              "      <td>0.000000</td>\n",
              "      <td>0.000000</td>\n",
              "      <td>0.000000</td>\n",
              "      <td>0.000000</td>\n",
              "    </tr>\n",
              "    <tr>\n",
              "      <th>50%</th>\n",
              "      <td>0.000000</td>\n",
              "      <td>2.000000</td>\n",
              "      <td>0.000000</td>\n",
              "      <td>0.000000</td>\n",
              "    </tr>\n",
              "    <tr>\n",
              "      <th>75%</th>\n",
              "      <td>0.000000</td>\n",
              "      <td>10.000000</td>\n",
              "      <td>0.000000</td>\n",
              "      <td>0.000000</td>\n",
              "    </tr>\n",
              "    <tr>\n",
              "      <th>max</th>\n",
              "      <td>73880.000000</td>\n",
              "      <td>97689.000000</td>\n",
              "      <td>10779.000000</td>\n",
              "      <td>62570.000000</td>\n",
              "    </tr>\n",
              "  </tbody>\n",
              "</table>\n",
              "</div>"
            ],
            "text/plain": [
              "             Active     Confirmed        Deaths     Recovered\n",
              "count   3434.000000   3434.000000   3434.000000   3434.000000\n",
              "mean     115.202679    209.702097      9.879150     43.413512\n",
              "std     2024.521259   2956.173537    234.856826   1161.782648\n",
              "min       -6.000000      0.000000      0.000000      0.000000\n",
              "25%        0.000000      0.000000      0.000000      0.000000\n",
              "50%        0.000000      2.000000      0.000000      0.000000\n",
              "75%        0.000000     10.000000      0.000000      0.000000\n",
              "max    73880.000000  97689.000000  10779.000000  62570.000000"
            ]
          },
          "metadata": {
            "tags": []
          },
          "execution_count": 198
        }
      ]
    },
    {
      "cell_type": "markdown",
      "metadata": {
        "id": "gQx1O_GeYYNI",
        "colab_type": "text"
      },
      "source": [
        "Olhando o resumo estatístico acima, é possível confirmar algumas hipóteses como:\n",
        "\n",
        "*   A variável `Deaths` possui 75% do valor abaixo de 0, porém seu valor máximo é 10779.\n",
        "*   A variável `Confirmed` possui 75% do valor abaixo de 10, porém seu valor máximo é 97689."
      ]
    },
    {
      "cell_type": "markdown",
      "metadata": {
        "id": "9CbLVou4aVS1",
        "colab_type": "text"
      },
      "source": [
        "**Boxplot para Active**"
      ]
    },
    {
      "cell_type": "code",
      "metadata": {
        "id": "oQpQYLiGaYHF",
        "colab_type": "code",
        "outputId": "10aad8db-6685-4a99-d15a-f2cc3719271d",
        "colab": {
          "base_uri": "https://localhost:8080/",
          "height": 269
        }
      },
      "source": [
        "#Active\n",
        "df.Active.plot(kind='box', vert=False, figsize=(15, 3))\n",
        "\n",
        "#ver quantidade de valores acima de 300\n",
        "print(\"Active\\nvalores acima de 300: \", len(df[df.Active > 300]))\n",
        "\n",
        "print(\"{:.4f}%\".format((len(df[df.Active > 300]) / df.shape[0])*100))"
      ],
      "execution_count": 0,
      "outputs": [
        {
          "output_type": "stream",
          "text": [
            "Active\n",
            "valores acima de 300:  74\n",
            "2.1549%\n"
          ],
          "name": "stdout"
        },
        {
          "output_type": "display_data",
          "data": {
            "image/png": "[encoded data removed]",
            "text/plain": [
              "<Figure size 1080x216 with 1 Axes>"
            ]
          },
          "metadata": {
            "tags": []
          }
        }
      ]
    },
    {
      "cell_type": "markdown",
      "metadata": {
        "id": "pYA-2LxhfNHa",
        "colab_type": "text"
      },
      "source": [
        "**Boxplot para Confirmed**"
      ]
    },
    {
      "cell_type": "code",
      "metadata": {
        "id": "3vJgrxcXfRn6",
        "colab_type": "code",
        "outputId": "153ab03c-2c1c-46a6-b280-53c483a99207",
        "colab": {
          "base_uri": "https://localhost:8080/",
          "height": 269
        }
      },
      "source": [
        "#Confirmed\n",
        "df.Confirmed.plot(kind='box', vert=False, figsize=(15, 3))\n",
        "\n",
        "#ver quantidade de valores acima de 500\n",
        "print(\"Confirmed\\nvalores acima de 500: \", len(df[df.Confirmed > 500]))\n",
        "\n",
        "print(\"{:.4f}%\".format((len(df[df.Confirmed > 500]) / df.shape[0])*100))"
      ],
      "execution_count": 0,
      "outputs": [
        {
          "output_type": "stream",
          "text": [
            "Confirmed\n",
            "valores acima de 500:  115\n",
            "3.3489%\n"
          ],
          "name": "stdout"
        },
        {
          "output_type": "display_data",
          "data": {
            "image/png": "[encoded data removed]",
            "text/plain": [
              "<Figure size 1080x216 with 1 Axes>"
            ]
          },
          "metadata": {
            "tags": []
          }
        }
      ]
    },
    {
      "cell_type": "markdown",
      "metadata": {
        "id": "8afl9zvpfddS",
        "colab_type": "text"
      },
      "source": [
        "**Boxplot para Deaths**"
      ]
    },
    {
      "cell_type": "code",
      "metadata": {
        "id": "oZQMqsIKfhrQ",
        "colab_type": "code",
        "outputId": "9580929a-3bab-4729-a954-d2efd454cb82",
        "colab": {
          "base_uri": "https://localhost:8080/",
          "height": 269
        }
      },
      "source": [
        "#Deaths\n",
        "df.Deaths.plot(kind='box', vert=False, figsize=(15, 3))\n",
        "\n",
        "#ver quantidade de valores acima de 100\n",
        "print(\"Deaths\\nvalores acima de 100: \", len(df[df.Deaths > 100]))\n",
        "\n",
        "print(\"{:.4f}%\".format((len(df[df.Deaths > 100]) / df.shape[0])*100))"
      ],
      "execution_count": 0,
      "outputs": [
        {
          "output_type": "stream",
          "text": [
            "Deaths\n",
            "valores acima de 100:  19\n",
            "0.5533%\n"
          ],
          "name": "stdout"
        },
        {
          "output_type": "display_data",
          "data": {
            "image/png": "[encoded data removed]",
            "text/plain": [
              "<Figure size 1080x216 with 1 Axes>"
            ]
          },
          "metadata": {
            "tags": []
          }
        }
      ]
    },
    {
      "cell_type": "markdown",
      "metadata": {
        "id": "-YiSIXzCf1Oz",
        "colab_type": "text"
      },
      "source": [
        "**Boxplot para Recovered**"
      ]
    },
    {
      "cell_type": "code",
      "metadata": {
        "id": "ICCDmkfkf3_3",
        "colab_type": "code",
        "outputId": "fbabb8db-044f-4d3b-adae-c0b851993b5b",
        "colab": {
          "base_uri": "https://localhost:8080/",
          "height": 269
        }
      },
      "source": [
        "#Recovered\n",
        "df.Recovered.plot(kind='box', vert=False, figsize=(15, 3))\n",
        "\n",
        "#ver quantidade de valores acima de 100\n",
        "print(\"Recovered\\nvalores acima de 100: \", len(df[df.Recovered > 100]))\n",
        "\n",
        "print(\"{:.4f}%\".format((len(df[df.Recovered > 100]) / df.shape[0])*100))"
      ],
      "execution_count": 0,
      "outputs": [
        {
          "output_type": "stream",
          "text": [
            "Recovered\n",
            "valores acima de 100:  51\n",
            "1.4851%\n"
          ],
          "name": "stdout"
        },
        {
          "output_type": "display_data",
          "data": {
            "image/png": "[encoded data removed]",
            "text/plain": [
              "<Figure size 1080x216 with 1 Axes>"
            ]
          },
          "metadata": {
            "tags": []
          }
        }
      ]
    },
    {
      "cell_type": "markdown",
      "metadata": {
        "id": "LsPVKbPlgHH_",
        "colab_type": "text"
      },
      "source": [
        "**Histograma sem outliers**"
      ]
    },
    {
      "cell_type": "code",
      "metadata": {
        "id": "4CsBoW9HgJoW",
        "colab_type": "code",
        "outputId": "c13a36a1-fa4c-46c8-9152-796511d45212",
        "colab": {
          "base_uri": "https://localhost:8080/",
          "height": 837
        }
      },
      "source": [
        "#fazer uma cópia do dataFrame e remover os outliers\n",
        "df_clean = df.copy()\n",
        "df_clean.drop(df_clean[df_clean.Active > 300].index, axis=0, inplace=True)\n",
        "df_clean.drop(df_clean[df_clean.Confirmed > 500].index, axis=0, inplace=True)\n",
        "df_clean.drop(df_clean[df_clean.Deaths > 100].index, axis=0, inplace=True)\n",
        "df_clean.drop(df_clean[df_clean.Recovered > 100].index, axis=0, inplace=True)\n",
        "\n",
        "#plotar o histograma para as variáveis numéricas\n",
        "df_clean.hist(bins=15, figsize=(15,10));\n"
      ],
      "execution_count": 0,
      "outputs": [
        {
          "output_type": "stream",
          "text": [
            "/usr/local/lib/python3.6/dist-packages/pandas/plotting/_matplotlib/tools.py:307: MatplotlibDeprecationWarning: \n",
            "The rowNum attribute was deprecated in Matplotlib 3.2 and will be removed two minor releases later. Use ax.get_subplotspec().rowspan.start instead.\n",
            "  layout[ax.rowNum, ax.colNum] = ax.get_visible()\n",
            "/usr/local/lib/python3.6/dist-packages/pandas/plotting/_matplotlib/tools.py:307: MatplotlibDeprecationWarning: \n",
            "The colNum attribute was deprecated in Matplotlib 3.2 and will be removed two minor releases later. Use ax.get_subplotspec().colspan.start instead.\n",
            "  layout[ax.rowNum, ax.colNum] = ax.get_visible()\n",
            "/usr/local/lib/python3.6/dist-packages/pandas/plotting/_matplotlib/tools.py:313: MatplotlibDeprecationWarning: \n",
            "The rowNum attribute was deprecated in Matplotlib 3.2 and will be removed two minor releases later. Use ax.get_subplotspec().rowspan.start instead.\n",
            "  if not layout[ax.rowNum + 1, ax.colNum]:\n",
            "/usr/local/lib/python3.6/dist-packages/pandas/plotting/_matplotlib/tools.py:313: MatplotlibDeprecationWarning: \n",
            "The colNum attribute was deprecated in Matplotlib 3.2 and will be removed two minor releases later. Use ax.get_subplotspec().colspan.start instead.\n",
            "  if not layout[ax.rowNum + 1, ax.colNum]:\n"
          ],
          "name": "stderr"
        },
        {
          "output_type": "display_data",
          "data": {
            "image/png": "[encoded data removed]",
            "text/plain": [
              "<Figure size 1080x720 with 6 Axes>"
            ]
          },
          "metadata": {
            "tags": []
          }
        }
      ]
    },
    {
      "cell_type": "markdown",
      "metadata": {
        "id": "vDp-6ayEbzPw",
        "colab_type": "text"
      },
      "source": [
        "### **Q5. Qual a correlação existente entre as variáveis?**\n",
        "\n",
        "Correlação significa que existe uma relação entre duas coisas. No contexto análisado, a busca é por uma relação ou semelhança entre duas variáveis.\n",
        "\n",
        "Essa relação pode ser medida, e é função do coeficiente de correlação estabelecer qual a intensidade dela. Para identificar as correlações existentes entre as variáveis de interesse, vou:\n",
        "\n",
        "*   Criar uma matriz de correlação\n",
        "*   Gerar um *heatmap* a partir dessa matriz, usando a biblioteca `seaborn`\n",
        "\n"
      ]
    },
    {
      "cell_type": "code",
      "metadata": {
        "id": "WhLfdjemb6iP",
        "colab_type": "code",
        "outputId": "8ed7cd2c-43a3-4099-f554-499a7fff83f2",
        "colab": {
          "base_uri": "https://localhost:8080/",
          "height": 175
        }
      },
      "source": [
        "#criar uma matriz de correlação\n",
        "corr= df_clean[['Active','Confirmed','Deaths', 'Recovered']].corr()\n",
        "\n",
        "display(corr)"
      ],
      "execution_count": 0,
      "outputs": [
        {
          "output_type": "display_data",
          "data": {
            "text/html": [
              "<div>\n",
              "<style scoped>\n",
              "    .dataframe tbody tr th:only-of-type {\n",
              "        vertical-align: middle;\n",
              "    }\n",
              "\n",
              "    .dataframe tbody tr th {\n",
              "        vertical-align: top;\n",
              "    }\n",
              "\n",
              "    .dataframe thead th {\n",
              "        text-align: right;\n",
              "    }\n",
              "</style>\n",
              "<table border=\"1\" class=\"dataframe\">\n",
              "  <thead>\n",
              "    <tr style=\"text-align: right;\">\n",
              "      <th></th>\n",
              "      <th>Active</th>\n",
              "      <th>Confirmed</th>\n",
              "      <th>Deaths</th>\n",
              "      <th>Recovered</th>\n",
              "    </tr>\n",
              "  </thead>\n",
              "  <tbody>\n",
              "    <tr>\n",
              "      <th>Active</th>\n",
              "      <td>1.000000</td>\n",
              "      <td>0.378888</td>\n",
              "      <td>0.266724</td>\n",
              "      <td>0.422422</td>\n",
              "    </tr>\n",
              "    <tr>\n",
              "      <th>Confirmed</th>\n",
              "      <td>0.378888</td>\n",
              "      <td>1.000000</td>\n",
              "      <td>0.650307</td>\n",
              "      <td>0.214398</td>\n",
              "    </tr>\n",
              "    <tr>\n",
              "      <th>Deaths</th>\n",
              "      <td>0.266724</td>\n",
              "      <td>0.650307</td>\n",
              "      <td>1.000000</td>\n",
              "      <td>0.114586</td>\n",
              "    </tr>\n",
              "    <tr>\n",
              "      <th>Recovered</th>\n",
              "      <td>0.422422</td>\n",
              "      <td>0.214398</td>\n",
              "      <td>0.114586</td>\n",
              "      <td>1.000000</td>\n",
              "    </tr>\n",
              "  </tbody>\n",
              "</table>\n",
              "</div>"
            ],
            "text/plain": [
              "             Active  Confirmed    Deaths  Recovered\n",
              "Active     1.000000   0.378888  0.266724   0.422422\n",
              "Confirmed  0.378888   1.000000  0.650307   0.214398\n",
              "Deaths     0.266724   0.650307  1.000000   0.114586\n",
              "Recovered  0.422422   0.214398  0.114586   1.000000"
            ]
          },
          "metadata": {
            "tags": []
          }
        }
      ]
    },
    {
      "cell_type": "code",
      "metadata": {
        "id": "AJH8BiUccWTP",
        "colab_type": "code",
        "outputId": "48f63eba-db1d-485b-d345-c4f1c74decab",
        "colab": {
          "base_uri": "https://localhost:8080/",
          "height": 274
        }
      },
      "source": [
        "#gerar heatmap a partir da matriz\n",
        "sns.heatmap(corr, cmap='RdBu', fmt='.2f', square=True, linecolor='white', annot=True);"
      ],
      "execution_count": 0,
      "outputs": [
        {
          "output_type": "display_data",
          "data": {
            "image/png": "[encoded data removed]",
            "text/plain": [
              "<Figure size 432x288 with 2 Axes>"
            ]
          },
          "metadata": {
            "tags": []
          }
        }
      ]
    },
    {
      "cell_type": "code",
      "metadata": {
        "id": "tsa3iyH9Dqss",
        "colab_type": "code",
        "outputId": "2cae7e88-ea38-47dd-d9e8-69fd68f47bb4",
        "colab": {
          "base_uri": "https://localhost:8080/",
          "height": 247
        }
      },
      "source": [
        "#média de ativos no dia por país no dataFrame sem outliers\n",
        "df_clean.groupby(['Country_Region']).Active.mean().sort_values(ascending=False)[:10]"
      ],
      "execution_count": 0,
      "outputs": [
        {
          "output_type": "execute_result",
          "data": {
            "text/plain": [
              "Country_Region\n",
              "Taiwan*            266.0\n",
              "Kazakhstan         263.0\n",
              "Moldova            259.0\n",
              "North Macedonia    250.0\n",
              "Jordan             238.0\n",
              "San Marino         196.0\n",
              "Cyprus             194.0\n",
              "Azerbaijan         190.0\n",
              "Kuwait             188.0\n",
              "Burkina Faso       187.0\n",
              "Name: Active, dtype: float64"
            ]
          },
          "metadata": {
            "tags": []
          },
          "execution_count": 208
        }
      ]
    },
    {
      "cell_type": "code",
      "metadata": {
        "id": "OEj7FaP4D3jq",
        "colab_type": "code",
        "outputId": "709d5b6d-eb0a-4d82-eb26-2e3d9f4288e5",
        "colab": {
          "base_uri": "https://localhost:8080/",
          "height": 119
        }
      },
      "source": [
        "#ver a única entrada de Taiwan\n",
        "df_clean[df.Country_Region == \"Taiwan*\"]"
      ],
      "execution_count": 0,
      "outputs": [
        {
          "output_type": "stream",
          "text": [
            "/usr/local/lib/python3.6/dist-packages/ipykernel_launcher.py:1: UserWarning: Boolean Series key will be reindexed to match DataFrame index.\n",
            "  \"\"\"Entry point for launching an IPython kernel.\n"
          ],
          "name": "stderr"
        },
        {
          "output_type": "execute_result",
          "data": {
            "text/html": [
              "<div>\n",
              "<style scoped>\n",
              "    .dataframe tbody tr th:only-of-type {\n",
              "        vertical-align: middle;\n",
              "    }\n",
              "\n",
              "    .dataframe tbody tr th {\n",
              "        vertical-align: top;\n",
              "    }\n",
              "\n",
              "    .dataframe thead th {\n",
              "        text-align: right;\n",
              "    }\n",
              "</style>\n",
              "<table border=\"1\" class=\"dataframe\">\n",
              "  <thead>\n",
              "    <tr style=\"text-align: right;\">\n",
              "      <th></th>\n",
              "      <th>Province_State</th>\n",
              "      <th>Country_Region</th>\n",
              "      <th>Last_Update</th>\n",
              "      <th>Latitude</th>\n",
              "      <th>Longitude</th>\n",
              "      <th>Confirmed</th>\n",
              "      <th>Deaths</th>\n",
              "      <th>Recovered</th>\n",
              "      <th>Active</th>\n",
              "    </tr>\n",
              "  </thead>\n",
              "  <tbody>\n",
              "    <tr>\n",
              "      <th>3415</th>\n",
              "      <td>NaN</td>\n",
              "      <td>Taiwan*</td>\n",
              "      <td>2020-03-29 08:04:48</td>\n",
              "      <td>23.7</td>\n",
              "      <td>121.0</td>\n",
              "      <td>298</td>\n",
              "      <td>2</td>\n",
              "      <td>30</td>\n",
              "      <td>266</td>\n",
              "    </tr>\n",
              "  </tbody>\n",
              "</table>\n",
              "</div>"
            ],
            "text/plain": [
              "     Province_State Country_Region  ... Recovered  Active\n",
              "3415            NaN        Taiwan*  ...        30     266\n",
              "\n",
              "[1 rows x 9 columns]"
            ]
          },
          "metadata": {
            "tags": []
          },
          "execution_count": 209
        }
      ]
    },
    {
      "cell_type": "code",
      "metadata": {
        "id": "NUWCfGSE-4E1",
        "colab_type": "code",
        "outputId": "2df0a123-3cd6-4a52-ab5e-6111f07dde0d",
        "colab": {
          "base_uri": "https://localhost:8080/",
          "height": 247
        }
      },
      "source": [
        "#média de ativos no dia por país no dataFrame original\n",
        "df.groupby(['Country_Region']).Active.mean().sort_values(ascending=False)[:10]"
      ],
      "execution_count": 0,
      "outputs": [
        {
          "output_type": "execute_result",
          "data": {
            "text/plain": [
              "Country_Region\n",
              "Italy           73880.0\n",
              "Spain           58598.0\n",
              "Germany         52351.0\n",
              "Iran            23278.0\n",
              "Switzerland     12934.0\n",
              "Belgium          9046.0\n",
              "Turkey           8981.0\n",
              "Austria          8223.0\n",
              "Portugal         5800.0\n",
              "Korea, South     4398.0\n",
              "Name: Active, dtype: float64"
            ]
          },
          "metadata": {
            "tags": []
          },
          "execution_count": 210
        }
      ]
    },
    {
      "cell_type": "code",
      "metadata": {
        "id": "0kJv0mFgA-r1",
        "colab_type": "code",
        "outputId": "b8631c26-2016-4570-fd28-964fb6681063",
        "colab": {
          "base_uri": "https://localhost:8080/",
          "height": 100
        }
      },
      "source": [
        "#ver a quantidade de entradas de Italy no dataFrame original\n",
        "print(df[df.Country_Region == \"Italy\"].shape)\n",
        "\n",
        "#ver a única entrada de Italy\n",
        "df[df.Country_Region == \"Italy\"]"
      ],
      "execution_count": 0,
      "outputs": [
        {
          "output_type": "stream",
          "text": [
            "(1, 9)\n"
          ],
          "name": "stdout"
        },
        {
          "output_type": "execute_result",
          "data": {
            "text/html": [
              "<div>\n",
              "<style scoped>\n",
              "    .dataframe tbody tr th:only-of-type {\n",
              "        vertical-align: middle;\n",
              "    }\n",
              "\n",
              "    .dataframe tbody tr th {\n",
              "        vertical-align: top;\n",
              "    }\n",
              "\n",
              "    .dataframe thead th {\n",
              "        text-align: right;\n",
              "    }\n",
              "</style>\n",
              "<table border=\"1\" class=\"dataframe\">\n",
              "  <thead>\n",
              "    <tr style=\"text-align: right;\">\n",
              "      <th></th>\n",
              "      <th>Province_State</th>\n",
              "      <th>Country_Region</th>\n",
              "      <th>Last_Update</th>\n",
              "      <th>Latitude</th>\n",
              "      <th>Longitude</th>\n",
              "      <th>Confirmed</th>\n",
              "      <th>Deaths</th>\n",
              "      <th>Recovered</th>\n",
              "      <th>Active</th>\n",
              "    </tr>\n",
              "  </thead>\n",
              "  <tbody>\n",
              "    <tr>\n",
              "      <th>3340</th>\n",
              "      <td>NaN</td>\n",
              "      <td>Italy</td>\n",
              "      <td>2020-03-29 23:08:13</td>\n",
              "      <td>41.87194</td>\n",
              "      <td>12.56738</td>\n",
              "      <td>97689</td>\n",
              "      <td>10779</td>\n",
              "      <td>13030</td>\n",
              "      <td>73880</td>\n",
              "    </tr>\n",
              "  </tbody>\n",
              "</table>\n",
              "</div>"
            ],
            "text/plain": [
              "     Province_State Country_Region  ... Recovered  Active\n",
              "3340            NaN          Italy  ...     13030   73880\n",
              "\n",
              "[1 rows x 9 columns]"
            ]
          },
          "metadata": {
            "tags": []
          },
          "execution_count": 211
        }
      ]
    },
    {
      "cell_type": "markdown",
      "metadata": {
        "id": "PqrptNNcdMo0",
        "colab_type": "text"
      },
      "source": [
        "### **Q6. Qual o total de casos ativos?**"
      ]
    },
    {
      "cell_type": "code",
      "metadata": {
        "id": "BSdQv2zZEow6",
        "colab_type": "code",
        "outputId": "9002bd16-619c-46b7-d1de-c63fe6888bfc",
        "colab": {
          "base_uri": "https://localhost:8080/",
          "height": 36
        }
      },
      "source": [
        "#total de ativos\n",
        "df['Active'].sum()"
      ],
      "execution_count": 0,
      "outputs": [
        {
          "output_type": "execute_result",
          "data": {
            "text/plain": [
              "395606"
            ]
          },
          "metadata": {
            "tags": []
          },
          "execution_count": 212
        }
      ]
    },
    {
      "cell_type": "markdown",
      "metadata": {
        "id": "JFSvmNsJdagw",
        "colab_type": "text"
      },
      "source": [
        "### **Q7. Qual o total de casos recuperados?**"
      ]
    },
    {
      "cell_type": "code",
      "metadata": {
        "id": "GEObvbwVFFaW",
        "colab_type": "code",
        "outputId": "4060a793-bb5e-42bd-c1c2-a5dd5f7135e8",
        "colab": {
          "base_uri": "https://localhost:8080/",
          "height": 36
        }
      },
      "source": [
        "#total de recuperados\n",
        "df['Recovered'].sum()"
      ],
      "execution_count": 0,
      "outputs": [
        {
          "output_type": "execute_result",
          "data": {
            "text/plain": [
              "149082"
            ]
          },
          "metadata": {
            "tags": []
          },
          "execution_count": 213
        }
      ]
    },
    {
      "cell_type": "markdown",
      "metadata": {
        "id": "PH85I584dd_U",
        "colab_type": "text"
      },
      "source": [
        "### **Q8. Qual o total de mortes?**"
      ]
    },
    {
      "cell_type": "code",
      "metadata": {
        "id": "y60uKmEFFIN8",
        "colab_type": "code",
        "outputId": "a2ca53ae-61e5-4e6e-9d65-1034b75ec2bd",
        "colab": {
          "base_uri": "https://localhost:8080/",
          "height": 36
        }
      },
      "source": [
        "#total de mortes\n",
        "df['Deaths'].sum()"
      ],
      "execution_count": 0,
      "outputs": [
        {
          "output_type": "execute_result",
          "data": {
            "text/plain": [
              "33925"
            ]
          },
          "metadata": {
            "tags": []
          },
          "execution_count": 214
        }
      ]
    },
    {
      "cell_type": "markdown",
      "metadata": {
        "id": "IWN31r7AdiZ-",
        "colab_type": "text"
      },
      "source": [
        "### **Q9. Qual o total de casos confirmados?**"
      ]
    },
    {
      "cell_type": "code",
      "metadata": {
        "id": "EPJcXq8QFTsI",
        "colab_type": "code",
        "outputId": "bba803d0-7cb7-4340-a9cf-b07b83c07f74",
        "colab": {
          "base_uri": "https://localhost:8080/",
          "height": 36
        }
      },
      "source": [
        "#total de casos confirmados\n",
        "df['Confirmed'].sum()"
      ],
      "execution_count": 0,
      "outputs": [
        {
          "output_type": "execute_result",
          "data": {
            "text/plain": [
              "720117"
            ]
          },
          "metadata": {
            "tags": []
          },
          "execution_count": 215
        }
      ]
    },
    {
      "cell_type": "markdown",
      "metadata": {
        "id": "amf8yPFVdmnl",
        "colab_type": "text"
      },
      "source": [
        "### **Q10. Quais são os países presentes no dataframe?**"
      ]
    },
    {
      "cell_type": "code",
      "metadata": {
        "id": "fSs3EEFjI7zs",
        "colab_type": "code",
        "outputId": "b15120b8-3f18-4713-ad5f-b14ccd9900c7",
        "colab": {
          "base_uri": "https://localhost:8080/",
          "height": 745
        }
      },
      "source": [
        "#países presentes no Dataframe\n",
        "df.Country_Region.unique()\n"
      ],
      "execution_count": 0,
      "outputs": [
        {
          "output_type": "execute_result",
          "data": {
            "text/plain": [
              "array(['US', 'Canada', 'United Kingdom', 'China', 'Netherlands',\n",
              "       'Australia', 'Denmark', 'France', 'Afghanistan', 'Albania',\n",
              "       'Algeria', 'Andorra', 'Angola', 'Antigua and Barbuda', 'Argentina',\n",
              "       'Armenia', 'Austria', 'Azerbaijan', 'Bahamas', 'Bahrain',\n",
              "       'Bangladesh', 'Barbados', 'Belarus', 'Belgium', 'Belize', 'Benin',\n",
              "       'Bhutan', 'Bolivia', 'Bosnia and Herzegovina', 'Brazil', 'Brunei',\n",
              "       'Bulgaria', 'Burkina Faso', 'Burma', 'Cabo Verde', 'Cambodia',\n",
              "       'Cameroon', 'Central African Republic', 'Chad', 'Chile',\n",
              "       'Colombia', 'Congo (Brazzaville)', 'Congo (Kinshasa)',\n",
              "       'Costa Rica', \"Cote d'Ivoire\", 'Croatia', 'Cuba', 'Cyprus',\n",
              "       'Czechia', 'Diamond Princess', 'Djibouti', 'Dominica',\n",
              "       'Dominican Republic', 'Ecuador', 'Egypt', 'El Salvador',\n",
              "       'Equatorial Guinea', 'Eritrea', 'Estonia', 'Eswatini', 'Ethiopia',\n",
              "       'Fiji', 'Finland', 'Gabon', 'Gambia', 'Georgia', 'Germany',\n",
              "       'Ghana', 'Greece', 'Grenada', 'Guatemala', 'Guinea',\n",
              "       'Guinea-Bissau', 'Guyana', 'Haiti', 'Holy See', 'Honduras',\n",
              "       'Hungary', 'Iceland', 'India', 'Indonesia', 'Iran', 'Iraq',\n",
              "       'Ireland', 'Israel', 'Italy', 'Jamaica', 'Japan', 'Jordan',\n",
              "       'Kazakhstan', 'Kenya', 'Korea, South', 'Kosovo', 'Kuwait',\n",
              "       'Kyrgyzstan', 'Laos', 'Latvia', 'Lebanon', 'Liberia', 'Libya',\n",
              "       'Liechtenstein', 'Lithuania', 'Luxembourg', 'MS Zaandam',\n",
              "       'Madagascar', 'Malaysia', 'Maldives', 'Mali', 'Malta',\n",
              "       'Mauritania', 'Mauritius', 'Mexico', 'Moldova', 'Monaco',\n",
              "       'Mongolia', 'Montenegro', 'Morocco', 'Mozambique', 'Namibia',\n",
              "       'Nepal', 'New Zealand', 'Nicaragua', 'Niger', 'Nigeria',\n",
              "       'North Macedonia', 'Norway', 'Oman', 'Pakistan', 'Panama',\n",
              "       'Papua New Guinea', 'Paraguay', 'Peru', 'Philippines', 'Poland',\n",
              "       'Portugal', 'Qatar', 'Romania', 'Russia', 'Rwanda',\n",
              "       'Saint Kitts and Nevis', 'Saint Lucia',\n",
              "       'Saint Vincent and the Grenadines', 'San Marino', 'Saudi Arabia',\n",
              "       'Senegal', 'Serbia', 'Seychelles', 'Singapore', 'Slovakia',\n",
              "       'Slovenia', 'Somalia', 'South Africa', 'Spain', 'Sri Lanka',\n",
              "       'Sudan', 'Suriname', 'Sweden', 'Switzerland', 'Syria', 'Taiwan*',\n",
              "       'Tanzania', 'Thailand', 'Timor-Leste', 'Togo',\n",
              "       'Trinidad and Tobago', 'Tunisia', 'Turkey', 'Uganda', 'Ukraine',\n",
              "       'United Arab Emirates', 'Uruguay', 'Uzbekistan', 'Venezuela',\n",
              "       'Vietnam', 'West Bank and Gaza', 'Zambia', 'Zimbabwe'],\n",
              "      dtype=object)"
            ]
          },
          "metadata": {
            "tags": []
          },
          "execution_count": 216
        }
      ]
    },
    {
      "cell_type": "markdown",
      "metadata": {
        "id": "g5ZE_48vF3gF",
        "colab_type": "text"
      },
      "source": [
        "Como são fornecidas as Latitudes e Longitudes dos países, é possível plotar cada ponto de acordo com o número de casos confirmados, por exemplo. \n",
        "Para isso considera-se x=`longitude` e y=`latitude`."
      ]
    },
    {
      "cell_type": "code",
      "metadata": {
        "id": "WyFEiI8PF8Gq",
        "colab_type": "code",
        "outputId": "7b2db0a5-5ec5-4873-870f-efa48bb9dc7a",
        "colab": {
          "base_uri": "https://localhost:8080/",
          "height": 721
        }
      },
      "source": [
        "#casos confirmados\n",
        "df_clean.plot(kind=\"scatter\", x='Longitude', y='Latitude', alpha=0.4, c=df_clean['Confirmed'], s=8,\n",
        "              cmap=plt.get_cmap('jet'), figsize=(12,8))"
      ],
      "execution_count": 0,
      "outputs": [
        {
          "output_type": "stream",
          "text": [
            "/usr/local/lib/python3.6/dist-packages/pandas/plotting/_matplotlib/tools.py:307: MatplotlibDeprecationWarning: \n",
            "The rowNum attribute was deprecated in Matplotlib 3.2 and will be removed two minor releases later. Use ax.get_subplotspec().rowspan.start instead.\n",
            "  layout[ax.rowNum, ax.colNum] = ax.get_visible()\n",
            "/usr/local/lib/python3.6/dist-packages/pandas/plotting/_matplotlib/tools.py:307: MatplotlibDeprecationWarning: \n",
            "The colNum attribute was deprecated in Matplotlib 3.2 and will be removed two minor releases later. Use ax.get_subplotspec().colspan.start instead.\n",
            "  layout[ax.rowNum, ax.colNum] = ax.get_visible()\n",
            "/usr/local/lib/python3.6/dist-packages/pandas/plotting/_matplotlib/tools.py:313: MatplotlibDeprecationWarning: \n",
            "The rowNum attribute was deprecated in Matplotlib 3.2 and will be removed two minor releases later. Use ax.get_subplotspec().rowspan.start instead.\n",
            "  if not layout[ax.rowNum + 1, ax.colNum]:\n",
            "/usr/local/lib/python3.6/dist-packages/pandas/plotting/_matplotlib/tools.py:313: MatplotlibDeprecationWarning: \n",
            "The colNum attribute was deprecated in Matplotlib 3.2 and will be removed two minor releases later. Use ax.get_subplotspec().colspan.start instead.\n",
            "  if not layout[ax.rowNum + 1, ax.colNum]:\n"
          ],
          "name": "stderr"
        },
        {
          "output_type": "execute_result",
          "data": {
            "text/plain": [
              "<matplotlib.axes._subplots.AxesSubplot at 0x7fe59f20e2e8>"
            ]
          },
          "metadata": {
            "tags": []
          },
          "execution_count": 217
        },
        {
          "output_type": "display_data",
          "data": {
            "image/png": "[encoded data removed]",
            "text/plain": [
              "<Figure size 864x576 with 2 Axes>"
            ]
          },
          "metadata": {
            "tags": []
          }
        }
      ]
    },
    {
      "cell_type": "markdown",
      "metadata": {
        "id": "1EBpFxF9eF9L",
        "colab_type": "text"
      },
      "source": [
        "## Conclusões\n",
        "\n",
        "Foi feita apenas uma análise superficial na base de dados da Johns Hopkins University Center for Systems Science and Engineering (JHU CSSE), porém já se percebeu que existem *outliers* em algumas das variáveis.\n"
      ]
    }
  ]
}